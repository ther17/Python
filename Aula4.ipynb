{
  "nbformat": 4,
  "nbformat_minor": 0,
  "metadata": {
    "colab": {
      "provenance": [],
      "authorship_tag": "ABX9TyNFnJfQsiNzWG6ZBXX/lYxV",
      "include_colab_link": true
    },
    "kernelspec": {
      "name": "python3",
      "display_name": "Python 3"
    },
    "language_info": {
      "name": "python"
    }
  },
  "cells": [
    {
      "cell_type": "markdown",
      "metadata": {
        "id": "view-in-github",
        "colab_type": "text"
      },
      "source": [
        "<a href=\"https://colab.research.google.com/github/ther17/Python/blob/main/Aula4.ipynb\" target=\"_parent\"><img src=\"https://colab.research.google.com/assets/colab-badge.svg\" alt=\"Open In Colab\"/></a>"
      ]
    },
    {
      "cell_type": "code",
      "execution_count": null,
      "metadata": {
        "id": "oF6uk1f8K5Zj"
      },
      "outputs": [],
      "source": []
    },
    {
      "cell_type": "markdown",
      "source": [
        "#Base de Dados:\n",
        "\n",
        "#Print = Faz com que exipa a informação\n",
        "#import = importa uma informarcão de uma pasta / base de dados\n",
        "#match = \"pasta matematica'\n",
        "#float = numero real\n",
        "#input = exibi o texto / coleta a informação\n",
        "#.2f = deixar o número final com .00"
      ],
      "metadata": {
        "id": "dwTz8neeLfbL"
      }
    },
    {
      "cell_type": "code",
      "source": [
        "\"conversão mm para pol\"\n",
        "milimetros = float(input(\"Digite a medida em milimetros:\"))\n",
        "polegadas = milimetros / 25.4\n",
        "print(f\"{milimetros} milímetros é igual a {polegadas:.2f} polegadas.\")"
      ],
      "metadata": {
        "colab": {
          "base_uri": "https://localhost:8080/"
        },
        "id": "1FpQ3fkxLx5j",
        "outputId": "372560ac-b1ac-4bc0-8143-22158cfe28d8"
      },
      "execution_count": null,
      "outputs": [
        {
          "output_type": "stream",
          "name": "stdout",
          "text": [
            "Digite a medida em milimetros:10\n",
            "10.0 milímetros é igual a 0.39 polegadas.\n"
          ]
        }
      ]
    },
    {
      "cell_type": "code",
      "source": [
        "\"raio para unidade cúbica\"\n",
        "from math import pi\n",
        "\n",
        "raio = float(input(\"Digite o raio da esfera em unidades de comprimento: \"))\n",
        "volume = (4/3) * pi * (raio ** 3)\n",
        "print(f\"O volume da esfera com raio {raio} é {volume:.2f} unidades cubicas.\")"
      ],
      "metadata": {
        "colab": {
          "base_uri": "https://localhost:8080/"
        },
        "id": "0kTHQJkRMYXI",
        "outputId": "203c4c1f-f516-400a-eb9b-6ea479a99bd5"
      },
      "execution_count": null,
      "outputs": [
        {
          "output_type": "stream",
          "name": "stdout",
          "text": [
            "Digite o raio da esfera em unidades de comprimento: 25\n",
            "O volume da esfera com raio 25.0 é 65449.85 unidades cubicas.\n"
          ]
        }
      ]
    },
    {
      "cell_type": "code",
      "source": [
        "\"graus para rad\"\n",
        "\n",
        "from math import pi\n",
        "Vgraus = float(input (\" Digite o valor em graus: \"))\n",
        "Vrad = (Vgraus*pi)/180\n",
        "print(f\"O valor em graus {Vgraus} é {Vrad: .2f} radiano\")"
      ],
      "metadata": {
        "colab": {
          "base_uri": "https://localhost:8080/"
        },
        "id": "XKQsW4SYMsxv",
        "outputId": "a12008b5-89fb-4285-cf8a-a75d218c9d0d"
      },
      "execution_count": null,
      "outputs": [
        {
          "output_type": "stream",
          "name": "stdout",
          "text": [
            " Digite o valor em graus: 90\n",
            "O valor em graus 90.0 é  1.57 radiano\n"
          ]
        }
      ]
    },
    {
      "cell_type": "code",
      "source": [
        "\"radiano para graus\"\n",
        "\n",
        "from math import pi\n",
        "Vrad = float(input (\"Digite o valor em radiano: \"))\n",
        "Vgraus = (Vrad*180)/pi\n",
        "print(f\"O valor em radiano {Vrad} é {Vgraus: .2f} graus\")"
      ],
      "metadata": {
        "colab": {
          "base_uri": "https://localhost:8080/"
        },
        "id": "hvs-yW0mNNmN",
        "outputId": "d4b43486-a70c-40f2-a7b5-22a500be2a07"
      },
      "execution_count": null,
      "outputs": [
        {
          "output_type": "stream",
          "name": "stdout",
          "text": [
            "Digite o valor em radiano: 2\n",
            "O valor em radiano 2.0 é  114.59 graus\n"
          ]
        }
      ]
    },
    {
      "cell_type": "code",
      "source": [
        "\"radianos para grados\"\n",
        "\n",
        "from math import pi\n",
        "Vrad = float(input (\"Digite o valor em radiano: \"))\n",
        "Vgrados = Vrad*400/(2*pi)\n",
        "print(f\"O valor em radianos {Vrad} é {Vgrados: .2f} grados\")"
      ],
      "metadata": {
        "colab": {
          "base_uri": "https://localhost:8080/"
        },
        "id": "Gn8Bcvb7NbOI",
        "outputId": "98e2710a-ec2a-4602-9f2c-9954c1618a40"
      },
      "execution_count": null,
      "outputs": [
        {
          "output_type": "stream",
          "name": "stdout",
          "text": [
            "Digite o valor em radiano: 1\n",
            "O valor em radianos 1.0 é  63.66 grados\n"
          ]
        }
      ]
    }
  ]
}